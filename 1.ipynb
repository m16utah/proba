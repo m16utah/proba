{
 "cells": [
  {
   "cell_type": "code",
   "execution_count": 1,
   "metadata": {},
   "outputs": [
    {
     "name": "stdout",
     "output_type": "stream",
     "text": [
      "345342434\n",
      "dfd\n",
      "['d', 'd', 'f']\n"
     ]
    }
   ],
   "source": [
    "input()\n",
    "a = sorted(list(input()))\n",
    "print (a)\n"
   ]
  },
  {
   "cell_type": "code",
   "execution_count": 89,
   "metadata": {},
   "outputs": [
    {
     "name": "stdout",
     "output_type": "stream",
     "text": [
      "567345345673534\n",
      "['3', '3', '3', '3', '4', '4', '4', '5', '5', '5', '5', '6', '6', '7', '7']\n"
     ]
    }
   ],
   "source": [
    "# Упорядочить массив\n",
    "b=input()\n",
    "a=list(b)\n",
    "k=0\n",
    "i=int(0)\n",
    "b=len(b)\n",
    "n=b\n",
    "while n>0:\n",
    "    i=0\n",
    "    while i<b-1:\n",
    "        if a[i]>a[i+1]:\n",
    "            k=a[i]\n",
    "            a[i]=a[i+1]\n",
    "            a[i+1]=k\n",
    "        i+=1\n",
    "    n=n-1\n",
    "    b=b-1\n",
    "print(a)\n",
    "\n"
   ]
  },
  {
   "cell_type": "markdown",
   "metadata": {},
   "source": [
    "a,y,r=5\n",
    "print (y)"
   ]
  },
  {
   "cell_type": "code",
   "execution_count": 98,
   "metadata": {},
   "outputs": [
    {
     "ename": "ModuleNotFoundError",
     "evalue": "No module named 'PyQt4'",
     "output_type": "error",
     "traceback": [
      "\u001b[1;31m---------------------------------------------------------------------------\u001b[0m",
      "\u001b[1;31mModuleNotFoundError\u001b[0m                       Traceback (most recent call last)",
      "\u001b[1;32m<ipython-input-98-c9cab8549781>\u001b[0m in \u001b[0;36m<module>\u001b[1;34m\u001b[0m\n\u001b[0;32m      1\u001b[0m \u001b[1;32mimport\u001b[0m \u001b[0msys\u001b[0m\u001b[1;33m\u001b[0m\u001b[1;33m\u001b[0m\u001b[0m\n\u001b[1;32m----> 2\u001b[1;33m \u001b[1;32mfrom\u001b[0m \u001b[0mPyQt4\u001b[0m \u001b[1;32mimport\u001b[0m \u001b[0mQtGui\u001b[0m\u001b[1;33m,\u001b[0m \u001b[0mQtCore\u001b[0m\u001b[1;33m\u001b[0m\u001b[1;33m\u001b[0m\u001b[0m\n\u001b[0m\u001b[0;32m      3\u001b[0m \u001b[1;32mclass\u001b[0m \u001b[0mTestGui\u001b[0m\u001b[1;33m(\u001b[0m\u001b[0mQtGui\u001b[0m\u001b[1;33m.\u001b[0m\u001b[0mQDialog\u001b[0m\u001b[1;33m)\u001b[0m\u001b[1;33m:\u001b[0m\u001b[1;33m\u001b[0m\u001b[1;33m\u001b[0m\u001b[0m\n\u001b[0;32m      4\u001b[0m     \u001b[1;32mdef\u001b[0m \u001b[0m__init__\u001b[0m\u001b[1;33m(\u001b[0m\u001b[0mself\u001b[0m\u001b[1;33m)\u001b[0m\u001b[1;33m:\u001b[0m\u001b[1;33m\u001b[0m\u001b[1;33m\u001b[0m\u001b[0m\n\u001b[0;32m      5\u001b[0m         \u001b[0mQtGui\u001b[0m\u001b[1;33m.\u001b[0m\u001b[0mQDialog\u001b[0m\u001b[1;33m.\u001b[0m\u001b[0m__init__\u001b[0m\u001b[1;33m(\u001b[0m\u001b[0mself\u001b[0m\u001b[1;33m)\u001b[0m\u001b[1;33m\u001b[0m\u001b[1;33m\u001b[0m\u001b[0m\n",
      "\u001b[1;31mModuleNotFoundError\u001b[0m: No module named 'PyQt4'"
     ]
    }
   ],
   "source": []
  },
  {
   "cell_type": "code",
   "execution_count": 18,
   "metadata": {},
   "outputs": [
    {
     "ename": "NameError",
     "evalue": "name 'lower' is not defined",
     "output_type": "error",
     "traceback": [
      "\u001b[1;31m---------------------------------------------------------------------------\u001b[0m",
      "\u001b[1;31mNameError\u001b[0m                                 Traceback (most recent call last)",
      "\u001b[1;32m<ipython-input-18-a23d01c283b0>\u001b[0m in \u001b[0;36m<module>\u001b[1;34m\u001b[0m\n\u001b[1;32m----> 1\u001b[1;33m \u001b[0mprint\u001b[0m\u001b[1;33m(\u001b[0m\u001b[0mlower\u001b[0m\u001b[1;33m(\u001b[0m\u001b[1;34m'dfgdsfg'\u001b[0m\u001b[1;33m)\u001b[0m\u001b[1;33m)\u001b[0m\u001b[1;33m\u001b[0m\u001b[1;33m\u001b[0m\u001b[0m\n\u001b[0m",
      "\u001b[1;31mNameError\u001b[0m: name 'lower' is not defined"
     ]
    }
   ],
   "source": [
    "print(lower('dfgdsfg'))"
   ]
  },
  {
   "cell_type": "code",
   "execution_count": null,
   "metadata": {},
   "outputs": [],
   "source": []
  },
  {
   "cell_type": "code",
   "execution_count": null,
   "metadata": {},
   "outputs": [],
   "source": []
  },
  {
   "cell_type": "code",
   "execution_count": null,
   "metadata": {},
   "outputs": [],
   "source": []
  },
  {
   "cell_type": "markdown",
   "metadata": {},
   "source": []
  },
  {
   "cell_type": "code",
   "execution_count": 20,
   "metadata": {},
   "outputs": [
    {
     "name": "stdout",
     "output_type": "stream",
     "text": [
      "8\n",
      "3\n",
      "16\n",
      "19\n",
      "15\n",
      "18\n",
      "8\n",
      "18\n",
      "6\n",
      "19\n",
      "= 31.54285714285714\n"
     ]
    }
   ],
   "source": [
    "\n",
    "#b = random.randint(10, 20)\n",
    "i=1\n",
    "k=0\n",
    "b=0\n",
    "for i in range(10):\n",
    "    k=random.randrange(20)\n",
    "    print(k)\n",
    "    b=b+k/(i+1)\n",
    "print(\"=\",b)"
   ]
  },
  {
   "cell_type": "code",
   "execution_count": 32,
   "metadata": {},
   "outputs": [],
   "source": [
    "def get_dataset():\n",
    "   X = []\n",
    "   y = []\n",
    "   label_names = [\"safe data\",\"Injected email\"]\n",
    "   with open('trainingSet.csv') as csvfile:\n",
    "       readCSV = csv.reader(csvfile, delimiter='\\n')\n",
    "       for row in readCSV:\n",
    "           splitted = row[0].split(',')\n",
    "           X.append(splitted[0])\n",
    "           y.append(splitted[1])\n",
    "\n",
    "          \n",
    "        \n",
    "   print(\"\\n\\nData set features {0}\". format(len(X)))\n",
    "   print(\"Data set labels   {0}\\n\". format(len(y)))\n",
    "\n",
    "   print(X)\n",
    "\n",
    "   return X, y, label_names"
   ]
  },
  {
   "cell_type": "code",
   "execution_count": 40,
   "metadata": {},
   "outputs": [
    {
     "ename": "IndentationError",
     "evalue": "expected an indented block (<ipython-input-40-000b75b179ba>, line 5)",
     "output_type": "error",
     "traceback": [
      "\u001b[1;36m  File \u001b[1;32m\"<ipython-input-40-000b75b179ba>\"\u001b[1;36m, line \u001b[1;32m5\u001b[0m\n\u001b[1;33m    return ('Hello world')\u001b[0m\n\u001b[1;37m         ^\u001b[0m\n\u001b[1;31mIndentationError\u001b[0m\u001b[1;31m:\u001b[0m expected an indented block\n"
     ]
    }
   ],
   "source": [
    "class Simple:\n",
    "    u'Простой класс'\n",
    "    var = 87\n",
    "    def f(x):\n",
    "    return ('Hello world')"
   ]
  },
  {
   "cell_type": "code",
   "execution_count": null,
   "metadata": {},
   "outputs": [],
   "source": []
  }
 ],
 "metadata": {
  "kernelspec": {
   "display_name": "Python 3",
   "language": "python",
   "name": "python3"
  },
  "language_info": {
   "codemirror_mode": {
    "name": "ipython",
    "version": 3
   },
   "file_extension": ".py",
   "mimetype": "text/x-python",
   "name": "python",
   "nbconvert_exporter": "python",
   "pygments_lexer": "ipython3",
   "version": "3.7.4"
  }
 },
 "nbformat": 4,
 "nbformat_minor": 2
}
